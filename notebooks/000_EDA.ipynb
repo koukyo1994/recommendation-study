{
 "cells": [
  {
   "cell_type": "code",
   "execution_count": 1,
   "id": "de48584c-eb44-4db8-9245-c9a2d42729bd",
   "metadata": {},
   "outputs": [],
   "source": [
    "import numpy as np\n",
    "import pandas as pd"
   ]
  },
  {
   "cell_type": "markdown",
   "id": "185de5fd-ab52-46d4-8fe0-eda5249af6f1",
   "metadata": {},
   "source": [
    "## 映画情報の読み込み"
   ]
  },
  {
   "cell_type": "code",
   "execution_count": 3,
   "id": "cb08b4a2-c7f4-4401-88b9-c4d97509912b",
   "metadata": {},
   "outputs": [
    {
     "data": {
      "text/html": [
       "<div>\n",
       "<style scoped>\n",
       "    .dataframe tbody tr th:only-of-type {\n",
       "        vertical-align: middle;\n",
       "    }\n",
       "\n",
       "    .dataframe tbody tr th {\n",
       "        vertical-align: top;\n",
       "    }\n",
       "\n",
       "    .dataframe thead th {\n",
       "        text-align: right;\n",
       "    }\n",
       "</style>\n",
       "<table border=\"1\" class=\"dataframe\">\n",
       "  <thead>\n",
       "    <tr style=\"text-align: right;\">\n",
       "      <th></th>\n",
       "      <th>movie_id</th>\n",
       "      <th>title</th>\n",
       "      <th>genre</th>\n",
       "    </tr>\n",
       "  </thead>\n",
       "  <tbody>\n",
       "    <tr>\n",
       "      <th>0</th>\n",
       "      <td>1</td>\n",
       "      <td>Toy Story (1995)</td>\n",
       "      <td>Adventure|Animation|Children|Comedy|Fantasy</td>\n",
       "    </tr>\n",
       "    <tr>\n",
       "      <th>1</th>\n",
       "      <td>2</td>\n",
       "      <td>Jumanji (1995)</td>\n",
       "      <td>Adventure|Children|Fantasy</td>\n",
       "    </tr>\n",
       "    <tr>\n",
       "      <th>2</th>\n",
       "      <td>3</td>\n",
       "      <td>Grumpier Old Men (1995)</td>\n",
       "      <td>Comedy|Romance</td>\n",
       "    </tr>\n",
       "    <tr>\n",
       "      <th>3</th>\n",
       "      <td>4</td>\n",
       "      <td>Waiting to Exhale (1995)</td>\n",
       "      <td>Comedy|Drama|Romance</td>\n",
       "    </tr>\n",
       "    <tr>\n",
       "      <th>4</th>\n",
       "      <td>5</td>\n",
       "      <td>Father of the Bride Part II (1995)</td>\n",
       "      <td>Comedy</td>\n",
       "    </tr>\n",
       "  </tbody>\n",
       "</table>\n",
       "</div>"
      ],
      "text/plain": [
       "   movie_id                               title  \\\n",
       "0         1                    Toy Story (1995)   \n",
       "1         2                      Jumanji (1995)   \n",
       "2         3             Grumpier Old Men (1995)   \n",
       "3         4            Waiting to Exhale (1995)   \n",
       "4         5  Father of the Bride Part II (1995)   \n",
       "\n",
       "                                         genre  \n",
       "0  Adventure|Animation|Children|Comedy|Fantasy  \n",
       "1                   Adventure|Children|Fantasy  \n",
       "2                               Comedy|Romance  \n",
       "3                         Comedy|Drama|Romance  \n",
       "4                                       Comedy  "
      ]
     },
     "execution_count": 3,
     "metadata": {},
     "output_type": "execute_result"
    }
   ],
   "source": [
    "# 映画の情報の読み込み\n",
    "m_cols = [\"movie_id\", \"title\", \"genre\"]\n",
    "movies = pd.read_csv(\n",
    "    \"../data/ml-10M100K/movies.dat\",\n",
    "    sep=\"::\", encoding=\"latin-1\", engine=\"python\",\n",
    "    names=m_cols)\n",
    "movies.head()"
   ]
  },
  {
   "cell_type": "markdown",
   "id": "cb951bdc-b77f-441f-99bc-0d8fa70d9174",
   "metadata": {},
   "source": [
    "## データの整形"
   ]
  },
  {
   "cell_type": "code",
   "execution_count": 4,
   "id": "b50a0d6e-ceb0-44b2-8565-afb869ddb8fd",
   "metadata": {},
   "outputs": [
    {
     "data": {
      "text/html": [
       "<div>\n",
       "<style scoped>\n",
       "    .dataframe tbody tr th:only-of-type {\n",
       "        vertical-align: middle;\n",
       "    }\n",
       "\n",
       "    .dataframe tbody tr th {\n",
       "        vertical-align: top;\n",
       "    }\n",
       "\n",
       "    .dataframe thead th {\n",
       "        text-align: right;\n",
       "    }\n",
       "</style>\n",
       "<table border=\"1\" class=\"dataframe\">\n",
       "  <thead>\n",
       "    <tr style=\"text-align: right;\">\n",
       "      <th></th>\n",
       "      <th>movie_id</th>\n",
       "      <th>title</th>\n",
       "      <th>genre</th>\n",
       "    </tr>\n",
       "  </thead>\n",
       "  <tbody>\n",
       "    <tr>\n",
       "      <th>0</th>\n",
       "      <td>1</td>\n",
       "      <td>Toy Story (1995)</td>\n",
       "      <td>[Adventure, Animation, Children, Comedy, Fantasy]</td>\n",
       "    </tr>\n",
       "    <tr>\n",
       "      <th>1</th>\n",
       "      <td>2</td>\n",
       "      <td>Jumanji (1995)</td>\n",
       "      <td>[Adventure, Children, Fantasy]</td>\n",
       "    </tr>\n",
       "    <tr>\n",
       "      <th>2</th>\n",
       "      <td>3</td>\n",
       "      <td>Grumpier Old Men (1995)</td>\n",
       "      <td>[Comedy, Romance]</td>\n",
       "    </tr>\n",
       "    <tr>\n",
       "      <th>3</th>\n",
       "      <td>4</td>\n",
       "      <td>Waiting to Exhale (1995)</td>\n",
       "      <td>[Comedy, Drama, Romance]</td>\n",
       "    </tr>\n",
       "    <tr>\n",
       "      <th>4</th>\n",
       "      <td>5</td>\n",
       "      <td>Father of the Bride Part II (1995)</td>\n",
       "      <td>[Comedy]</td>\n",
       "    </tr>\n",
       "  </tbody>\n",
       "</table>\n",
       "</div>"
      ],
      "text/plain": [
       "   movie_id                               title  \\\n",
       "0         1                    Toy Story (1995)   \n",
       "1         2                      Jumanji (1995)   \n",
       "2         3             Grumpier Old Men (1995)   \n",
       "3         4            Waiting to Exhale (1995)   \n",
       "4         5  Father of the Bride Part II (1995)   \n",
       "\n",
       "                                               genre  \n",
       "0  [Adventure, Animation, Children, Comedy, Fantasy]  \n",
       "1                     [Adventure, Children, Fantasy]  \n",
       "2                                  [Comedy, Romance]  \n",
       "3                           [Comedy, Drama, Romance]  \n",
       "4                                           [Comedy]  "
      ]
     },
     "execution_count": 4,
     "metadata": {},
     "output_type": "execute_result"
    }
   ],
   "source": [
    "movies[\"genre\"] = movies[\"genre\"].map(\n",
    "    lambda x: x.split(\"|\"))\n",
    "movies.head()"
   ]
  },
  {
   "cell_type": "markdown",
   "id": "6178b7cf-f681-46ff-80c3-8b174a17c7d6",
   "metadata": {},
   "source": [
    "## 映画情報の基本的な統計量を確認する"
   ]
  },
  {
   "cell_type": "code",
   "execution_count": 5,
   "id": "ac4ec6ba-2b40-4ce8-96a0-535adb2454d5",
   "metadata": {},
   "outputs": [
    {
     "data": {
      "text/plain": [
       "10681"
      ]
     },
     "execution_count": 5,
     "metadata": {},
     "output_type": "execute_result"
    }
   ],
   "source": [
    "len(movies)"
   ]
  },
  {
   "cell_type": "code",
   "execution_count": 6,
   "id": "27208268-30d3-4621-8583-d9dbccccb147",
   "metadata": {},
   "outputs": [
    {
     "data": {
      "text/plain": [
       "10680"
      ]
     },
     "execution_count": 6,
     "metadata": {},
     "output_type": "execute_result"
    }
   ],
   "source": [
    "movies[\"title\"].nunique()"
   ]
  },
  {
   "cell_type": "code",
   "execution_count": 7,
   "id": "d8a5affa-3027-4c37-b610-366ae5c186d5",
   "metadata": {},
   "outputs": [
    {
     "data": {
      "text/html": [
       "<div>\n",
       "<style scoped>\n",
       "    .dataframe tbody tr th:only-of-type {\n",
       "        vertical-align: middle;\n",
       "    }\n",
       "\n",
       "    .dataframe tbody tr th {\n",
       "        vertical-align: top;\n",
       "    }\n",
       "\n",
       "    .dataframe thead th {\n",
       "        text-align: right;\n",
       "    }\n",
       "</style>\n",
       "<table border=\"1\" class=\"dataframe\">\n",
       "  <thead>\n",
       "    <tr style=\"text-align: right;\">\n",
       "      <th></th>\n",
       "      <th>movie_id</th>\n",
       "      <th>title</th>\n",
       "      <th>genre</th>\n",
       "    </tr>\n",
       "  </thead>\n",
       "  <tbody>\n",
       "    <tr>\n",
       "      <th>10668</th>\n",
       "      <td>64997</td>\n",
       "      <td>War of the Worlds (2005)</td>\n",
       "      <td>[Action]</td>\n",
       "    </tr>\n",
       "  </tbody>\n",
       "</table>\n",
       "</div>"
      ],
      "text/plain": [
       "       movie_id                     title     genre\n",
       "10668     64997  War of the Worlds (2005)  [Action]"
      ]
     },
     "execution_count": 7,
     "metadata": {},
     "output_type": "execute_result"
    }
   ],
   "source": [
    "movies[movies[\"title\"].duplicated()]"
   ]
  },
  {
   "cell_type": "code",
   "execution_count": 9,
   "id": "e6817bb9-b57c-4cfe-8ef8-cdee460c8f40",
   "metadata": {},
   "outputs": [
    {
     "data": {
      "text/plain": [
       "{'(no genres listed)',\n",
       " 'Action',\n",
       " 'Adventure',\n",
       " 'Animation',\n",
       " 'Children',\n",
       " 'Comedy',\n",
       " 'Crime',\n",
       " 'Documentary',\n",
       " 'Drama',\n",
       " 'Fantasy',\n",
       " 'Film-Noir',\n",
       " 'Horror',\n",
       " 'IMAX',\n",
       " 'Musical',\n",
       " 'Mystery',\n",
       " 'Romance',\n",
       " 'Sci-Fi',\n",
       " 'Thriller',\n",
       " 'War',\n",
       " 'Western'}"
      ]
     },
     "execution_count": 9,
     "metadata": {},
     "output_type": "execute_result"
    }
   ],
   "source": [
    "all_genre = set()\n",
    "for genre in movies[\"genre\"].values:\n",
    "    all_genre.update(genre)\n",
    "    \n",
    "all_genre"
   ]
  },
  {
   "cell_type": "code",
   "execution_count": 10,
   "id": "0dcdc3e9-4263-455f-b6c4-a71f51bdcab9",
   "metadata": {},
   "outputs": [
    {
     "data": {
      "text/plain": [
       "1    4006\n",
       "2    3702\n",
       "3    2005\n",
       "4     744\n",
       "5     186\n",
       "6      34\n",
       "7       3\n",
       "8       1\n",
       "Name: genre, dtype: int64"
      ]
     },
     "execution_count": 10,
     "metadata": {},
     "output_type": "execute_result"
    }
   ],
   "source": [
    "movies[\"genre\"].map(len).value_counts()"
   ]
  },
  {
   "cell_type": "markdown",
   "id": "4f66056e-a8c3-43ee-8333-ae7b0dbf317b",
   "metadata": {},
   "source": [
    "## タグ情報の読み込み"
   ]
  },
  {
   "cell_type": "code",
   "execution_count": 11,
   "id": "5127ef74-d332-476a-914d-4753e354e7d5",
   "metadata": {},
   "outputs": [
    {
     "data": {
      "text/html": [
       "<div>\n",
       "<style scoped>\n",
       "    .dataframe tbody tr th:only-of-type {\n",
       "        vertical-align: middle;\n",
       "    }\n",
       "\n",
       "    .dataframe tbody tr th {\n",
       "        vertical-align: top;\n",
       "    }\n",
       "\n",
       "    .dataframe thead th {\n",
       "        text-align: right;\n",
       "    }\n",
       "</style>\n",
       "<table border=\"1\" class=\"dataframe\">\n",
       "  <thead>\n",
       "    <tr style=\"text-align: right;\">\n",
       "      <th></th>\n",
       "      <th>user_id</th>\n",
       "      <th>movie_id</th>\n",
       "      <th>tag</th>\n",
       "      <th>timestamp</th>\n",
       "    </tr>\n",
       "  </thead>\n",
       "  <tbody>\n",
       "    <tr>\n",
       "      <th>0</th>\n",
       "      <td>15</td>\n",
       "      <td>4973</td>\n",
       "      <td>excellent!</td>\n",
       "      <td>1215184630</td>\n",
       "    </tr>\n",
       "    <tr>\n",
       "      <th>1</th>\n",
       "      <td>20</td>\n",
       "      <td>1747</td>\n",
       "      <td>politics</td>\n",
       "      <td>1188263867</td>\n",
       "    </tr>\n",
       "    <tr>\n",
       "      <th>2</th>\n",
       "      <td>20</td>\n",
       "      <td>1747</td>\n",
       "      <td>satire</td>\n",
       "      <td>1188263867</td>\n",
       "    </tr>\n",
       "    <tr>\n",
       "      <th>3</th>\n",
       "      <td>20</td>\n",
       "      <td>2424</td>\n",
       "      <td>chick flick 212</td>\n",
       "      <td>1188263835</td>\n",
       "    </tr>\n",
       "    <tr>\n",
       "      <th>4</th>\n",
       "      <td>20</td>\n",
       "      <td>2424</td>\n",
       "      <td>hanks</td>\n",
       "      <td>1188263835</td>\n",
       "    </tr>\n",
       "  </tbody>\n",
       "</table>\n",
       "</div>"
      ],
      "text/plain": [
       "   user_id  movie_id              tag   timestamp\n",
       "0       15      4973       excellent!  1215184630\n",
       "1       20      1747         politics  1188263867\n",
       "2       20      1747           satire  1188263867\n",
       "3       20      2424  chick flick 212  1188263835\n",
       "4       20      2424            hanks  1188263835"
      ]
     },
     "execution_count": 11,
     "metadata": {},
     "output_type": "execute_result"
    }
   ],
   "source": [
    "t_cols = [\"user_id\", \"movie_id\", \"tag\", \"timestamp\"]\n",
    "user_tagged_movies = pd.read_csv(\n",
    "    \"../data/ml-10M100K/tags.dat\",\n",
    "    names=t_cols, sep=\"::\", engine=\"python\")\n",
    "user_tagged_movies[\"tag\"] = user_tagged_movies[\"tag\"].str.lower()\n",
    "user_tagged_movies.head()"
   ]
  },
  {
   "cell_type": "markdown",
   "id": "be3c135a-f75a-4efc-87d4-605d0fcfdf31",
   "metadata": {},
   "source": [
    "## タグ情報の統計量を見てみる"
   ]
  },
  {
   "cell_type": "code",
   "execution_count": 12,
   "id": "6065c020-2cf8-461f-b8e6-cd1430f0a0f0",
   "metadata": {},
   "outputs": [
    {
     "data": {
      "text/plain": [
       "15240"
      ]
     },
     "execution_count": 12,
     "metadata": {},
     "output_type": "execute_result"
    }
   ],
   "source": [
    "user_tagged_movies[\"tag\"].nunique()"
   ]
  },
  {
   "cell_type": "code",
   "execution_count": 13,
   "id": "885f54a3-52fc-43f5-8b80-2fa953cce25b",
   "metadata": {},
   "outputs": [
    {
     "data": {
      "text/plain": [
       "95580"
      ]
     },
     "execution_count": 13,
     "metadata": {},
     "output_type": "execute_result"
    }
   ],
   "source": [
    "len(user_tagged_movies)"
   ]
  },
  {
   "cell_type": "code",
   "execution_count": 14,
   "id": "66e58d39-1d61-4cd4-a2e6-921b2add76dd",
   "metadata": {},
   "outputs": [
    {
     "data": {
      "text/plain": [
       "7601"
      ]
     },
     "execution_count": 14,
     "metadata": {},
     "output_type": "execute_result"
    }
   ],
   "source": [
    "user_tagged_movies[\"movie_id\"].nunique()"
   ]
  },
  {
   "cell_type": "code",
   "execution_count": 15,
   "id": "631b8a95-1d1a-4209-8b1a-d22d448404b7",
   "metadata": {},
   "outputs": [
    {
     "data": {
      "text/plain": [
       "4009"
      ]
     },
     "execution_count": 15,
     "metadata": {},
     "output_type": "execute_result"
    }
   ],
   "source": [
    "user_tagged_movies[\"user_id\"].nunique()"
   ]
  },
  {
   "cell_type": "markdown",
   "id": "aa516a67-e400-4518-a04a-52730d4402b6",
   "metadata": {},
   "source": [
    "## 映画情報にタグ情報を結合する"
   ]
  },
  {
   "cell_type": "code",
   "execution_count": 16,
   "id": "b654f945-77c5-4eb2-8cd6-d32257dd3949",
   "metadata": {},
   "outputs": [
    {
     "data": {
      "text/html": [
       "<div>\n",
       "<style scoped>\n",
       "    .dataframe tbody tr th:only-of-type {\n",
       "        vertical-align: middle;\n",
       "    }\n",
       "\n",
       "    .dataframe tbody tr th {\n",
       "        vertical-align: top;\n",
       "    }\n",
       "\n",
       "    .dataframe thead th {\n",
       "        text-align: right;\n",
       "    }\n",
       "</style>\n",
       "<table border=\"1\" class=\"dataframe\">\n",
       "  <thead>\n",
       "    <tr style=\"text-align: right;\">\n",
       "      <th></th>\n",
       "      <th>movie_id</th>\n",
       "      <th>title</th>\n",
       "      <th>genre</th>\n",
       "      <th>tag</th>\n",
       "    </tr>\n",
       "  </thead>\n",
       "  <tbody>\n",
       "    <tr>\n",
       "      <th>0</th>\n",
       "      <td>1</td>\n",
       "      <td>Toy Story (1995)</td>\n",
       "      <td>[Adventure, Animation, Children, Comedy, Fantasy]</td>\n",
       "      <td>[pixar, pixar, pixar, animation, pixar, animat...</td>\n",
       "    </tr>\n",
       "    <tr>\n",
       "      <th>1</th>\n",
       "      <td>2</td>\n",
       "      <td>Jumanji (1995)</td>\n",
       "      <td>[Adventure, Children, Fantasy]</td>\n",
       "      <td>[for children, game, animals, joe johnston, ro...</td>\n",
       "    </tr>\n",
       "    <tr>\n",
       "      <th>2</th>\n",
       "      <td>3</td>\n",
       "      <td>Grumpier Old Men (1995)</td>\n",
       "      <td>[Comedy, Romance]</td>\n",
       "      <td>[funniest movies, comedinha de velhinhos engra...</td>\n",
       "    </tr>\n",
       "    <tr>\n",
       "      <th>3</th>\n",
       "      <td>4</td>\n",
       "      <td>Waiting to Exhale (1995)</td>\n",
       "      <td>[Comedy, Drama, Romance]</td>\n",
       "      <td>[girl movie]</td>\n",
       "    </tr>\n",
       "    <tr>\n",
       "      <th>4</th>\n",
       "      <td>5</td>\n",
       "      <td>Father of the Bride Part II (1995)</td>\n",
       "      <td>[Comedy]</td>\n",
       "      <td>[steve martin, pregnancy, remake, steve martin...</td>\n",
       "    </tr>\n",
       "  </tbody>\n",
       "</table>\n",
       "</div>"
      ],
      "text/plain": [
       "   movie_id                               title  \\\n",
       "0         1                    Toy Story (1995)   \n",
       "1         2                      Jumanji (1995)   \n",
       "2         3             Grumpier Old Men (1995)   \n",
       "3         4            Waiting to Exhale (1995)   \n",
       "4         5  Father of the Bride Part II (1995)   \n",
       "\n",
       "                                               genre  \\\n",
       "0  [Adventure, Animation, Children, Comedy, Fantasy]   \n",
       "1                     [Adventure, Children, Fantasy]   \n",
       "2                                  [Comedy, Romance]   \n",
       "3                           [Comedy, Drama, Romance]   \n",
       "4                                           [Comedy]   \n",
       "\n",
       "                                                 tag  \n",
       "0  [pixar, pixar, pixar, animation, pixar, animat...  \n",
       "1  [for children, game, animals, joe johnston, ro...  \n",
       "2  [funniest movies, comedinha de velhinhos engra...  \n",
       "3                                       [girl movie]  \n",
       "4  [steve martin, pregnancy, remake, steve martin...  "
      ]
     },
     "execution_count": 16,
     "metadata": {},
     "output_type": "execute_result"
    }
   ],
   "source": [
    "movie_tags = user_tagged_movies.groupby(\"movie_id\").agg({\"tag\": list})\n",
    "movies = movies.merge(movie_tags, on=\"movie_id\", how=\"left\")\n",
    "movies.head()"
   ]
  },
  {
   "cell_type": "markdown",
   "id": "f1dd43d7-c882-486a-a842-1ba4e9d131f2",
   "metadata": {},
   "source": [
    "## 評価値データを読み込む"
   ]
  },
  {
   "cell_type": "code",
   "execution_count": 17,
   "id": "34e2da99-d9f4-4fc2-a819-b9f2df172ff8",
   "metadata": {},
   "outputs": [
    {
     "data": {
      "text/html": [
       "<div>\n",
       "<style scoped>\n",
       "    .dataframe tbody tr th:only-of-type {\n",
       "        vertical-align: middle;\n",
       "    }\n",
       "\n",
       "    .dataframe tbody tr th {\n",
       "        vertical-align: top;\n",
       "    }\n",
       "\n",
       "    .dataframe thead th {\n",
       "        text-align: right;\n",
       "    }\n",
       "</style>\n",
       "<table border=\"1\" class=\"dataframe\">\n",
       "  <thead>\n",
       "    <tr style=\"text-align: right;\">\n",
       "      <th></th>\n",
       "      <th>user_id</th>\n",
       "      <th>movie_id</th>\n",
       "      <th>rating</th>\n",
       "      <th>timestamp</th>\n",
       "    </tr>\n",
       "  </thead>\n",
       "  <tbody>\n",
       "    <tr>\n",
       "      <th>0</th>\n",
       "      <td>1</td>\n",
       "      <td>122</td>\n",
       "      <td>5.0</td>\n",
       "      <td>838985046</td>\n",
       "    </tr>\n",
       "    <tr>\n",
       "      <th>1</th>\n",
       "      <td>1</td>\n",
       "      <td>185</td>\n",
       "      <td>5.0</td>\n",
       "      <td>838983525</td>\n",
       "    </tr>\n",
       "    <tr>\n",
       "      <th>2</th>\n",
       "      <td>1</td>\n",
       "      <td>231</td>\n",
       "      <td>5.0</td>\n",
       "      <td>838983392</td>\n",
       "    </tr>\n",
       "    <tr>\n",
       "      <th>3</th>\n",
       "      <td>1</td>\n",
       "      <td>292</td>\n",
       "      <td>5.0</td>\n",
       "      <td>838983421</td>\n",
       "    </tr>\n",
       "    <tr>\n",
       "      <th>4</th>\n",
       "      <td>1</td>\n",
       "      <td>316</td>\n",
       "      <td>5.0</td>\n",
       "      <td>838983392</td>\n",
       "    </tr>\n",
       "  </tbody>\n",
       "</table>\n",
       "</div>"
      ],
      "text/plain": [
       "   user_id  movie_id  rating  timestamp\n",
       "0        1       122     5.0  838985046\n",
       "1        1       185     5.0  838983525\n",
       "2        1       231     5.0  838983392\n",
       "3        1       292     5.0  838983421\n",
       "4        1       316     5.0  838983392"
      ]
     },
     "execution_count": 17,
     "metadata": {},
     "output_type": "execute_result"
    }
   ],
   "source": [
    "r_cols = [\"user_id\", \"movie_id\", \"rating\", \"timestamp\"]\n",
    "ratings = pd.read_csv(\n",
    "    \"../data/ml-10M100K/ratings.dat\",\n",
    "    names=r_cols, sep=\"::\", engine=\"python\")\n",
    "ratings.head()"
   ]
  },
  {
   "cell_type": "code",
   "execution_count": 18,
   "id": "0a9b12ae-85b4-4881-8ec5-809e954780d5",
   "metadata": {},
   "outputs": [
    {
     "data": {
      "text/plain": [
       "10000054"
      ]
     },
     "execution_count": 18,
     "metadata": {},
     "output_type": "execute_result"
    }
   ],
   "source": [
    "len(ratings)"
   ]
  },
  {
   "cell_type": "code",
   "execution_count": 19,
   "id": "62ed45d7-a77f-4957-8541-21a7dbaec6bb",
   "metadata": {},
   "outputs": [
    {
     "data": {
      "text/plain": [
       "69878"
      ]
     },
     "execution_count": 19,
     "metadata": {},
     "output_type": "execute_result"
    }
   ],
   "source": [
    "ratings[\"user_id\"].nunique()"
   ]
  },
  {
   "cell_type": "code",
   "execution_count": 20,
   "id": "b4bb7a01-4452-4b49-9bfc-300f2c265c1d",
   "metadata": {},
   "outputs": [
    {
     "data": {
      "text/plain": [
       "10677"
      ]
     },
     "execution_count": 20,
     "metadata": {},
     "output_type": "execute_result"
    }
   ],
   "source": [
    "ratings[\"movie_id\"].nunique()"
   ]
  },
  {
   "cell_type": "code",
   "execution_count": 21,
   "id": "4e241ab1-745c-4a01-b3e0-dd1215b6ee41",
   "metadata": {},
   "outputs": [
    {
     "data": {
      "image/png": "[encoded data removed]",
      "text/plain": [
       "<Figure size 432x288 with 1 Axes>"
      ]
     },
     "metadata": {
      "needs_background": "light"
     },
     "output_type": "display_data"
    }
   ],
   "source": [
    "ratings[\"rating\"].plot.hist();"
   ]
  },
  {
   "cell_type": "markdown",
   "id": "ee4d1667-ffa9-413c-99e6-2f3f271157ac",
   "metadata": {},
   "source": [
    "## 評価値のデータ数が多いので利用データを絞る"
   ]
  },
  {
   "cell_type": "code",
   "execution_count": 22,
   "id": "5f48eaff-f93c-46fb-9f66-0c5026ed1917",
   "metadata": {},
   "outputs": [],
   "source": [
    "valid_user_ids = sorted(ratings[\"user_id\"].unique())[:1000]\n",
    "rating = ratings[ratings[\"user_id\"].isin(valid_user_ids)]"
   ]
  },
  {
   "cell_type": "code",
   "execution_count": 23,
   "id": "480278cf-84dc-4f88-9740-614eb2a84d78",
   "metadata": {},
   "outputs": [
    {
     "data": {
      "text/html": [
       "<div>\n",
       "<style scoped>\n",
       "    .dataframe tbody tr th:only-of-type {\n",
       "        vertical-align: middle;\n",
       "    }\n",
       "\n",
       "    .dataframe tbody tr th {\n",
       "        vertical-align: top;\n",
       "    }\n",
       "\n",
       "    .dataframe thead th {\n",
       "        text-align: right;\n",
       "    }\n",
       "</style>\n",
       "<table border=\"1\" class=\"dataframe\">\n",
       "  <thead>\n",
       "    <tr style=\"text-align: right;\">\n",
       "      <th></th>\n",
       "      <th>user_id</th>\n",
       "      <th>movie_id</th>\n",
       "      <th>rating</th>\n",
       "      <th>timestamp</th>\n",
       "      <th>title</th>\n",
       "      <th>genre</th>\n",
       "      <th>tag</th>\n",
       "    </tr>\n",
       "  </thead>\n",
       "  <tbody>\n",
       "    <tr>\n",
       "      <th>0</th>\n",
       "      <td>1</td>\n",
       "      <td>122</td>\n",
       "      <td>5.0</td>\n",
       "      <td>838985046</td>\n",
       "      <td>Boomerang (1992)</td>\n",
       "      <td>[Comedy, Romance]</td>\n",
       "      <td>[dating, nudity (topless - brief), can't remem...</td>\n",
       "    </tr>\n",
       "    <tr>\n",
       "      <th>1</th>\n",
       "      <td>139</td>\n",
       "      <td>122</td>\n",
       "      <td>3.0</td>\n",
       "      <td>974302621</td>\n",
       "      <td>Boomerang (1992)</td>\n",
       "      <td>[Comedy, Romance]</td>\n",
       "      <td>[dating, nudity (topless - brief), can't remem...</td>\n",
       "    </tr>\n",
       "    <tr>\n",
       "      <th>2</th>\n",
       "      <td>149</td>\n",
       "      <td>122</td>\n",
       "      <td>2.5</td>\n",
       "      <td>1112342322</td>\n",
       "      <td>Boomerang (1992)</td>\n",
       "      <td>[Comedy, Romance]</td>\n",
       "      <td>[dating, nudity (topless - brief), can't remem...</td>\n",
       "    </tr>\n",
       "    <tr>\n",
       "      <th>3</th>\n",
       "      <td>182</td>\n",
       "      <td>122</td>\n",
       "      <td>3.0</td>\n",
       "      <td>943458784</td>\n",
       "      <td>Boomerang (1992)</td>\n",
       "      <td>[Comedy, Romance]</td>\n",
       "      <td>[dating, nudity (topless - brief), can't remem...</td>\n",
       "    </tr>\n",
       "    <tr>\n",
       "      <th>4</th>\n",
       "      <td>215</td>\n",
       "      <td>122</td>\n",
       "      <td>4.5</td>\n",
       "      <td>1102493547</td>\n",
       "      <td>Boomerang (1992)</td>\n",
       "      <td>[Comedy, Romance]</td>\n",
       "      <td>[dating, nudity (topless - brief), can't remem...</td>\n",
       "    </tr>\n",
       "  </tbody>\n",
       "</table>\n",
       "</div>"
      ],
      "text/plain": [
       "   user_id  movie_id  rating   timestamp             title              genre  \\\n",
       "0        1       122     5.0   838985046  Boomerang (1992)  [Comedy, Romance]   \n",
       "1      139       122     3.0   974302621  Boomerang (1992)  [Comedy, Romance]   \n",
       "2      149       122     2.5  1112342322  Boomerang (1992)  [Comedy, Romance]   \n",
       "3      182       122     3.0   943458784  Boomerang (1992)  [Comedy, Romance]   \n",
       "4      215       122     4.5  1102493547  Boomerang (1992)  [Comedy, Romance]   \n",
       "\n",
       "                                                 tag  \n",
       "0  [dating, nudity (topless - brief), can't remem...  \n",
       "1  [dating, nudity (topless - brief), can't remem...  \n",
       "2  [dating, nudity (topless - brief), can't remem...  \n",
       "3  [dating, nudity (topless - brief), can't remem...  \n",
       "4  [dating, nudity (topless - brief), can't remem...  "
      ]
     },
     "execution_count": 23,
     "metadata": {},
     "output_type": "execute_result"
    }
   ],
   "source": [
    "movielens = ratings.merge(movies, on=\"movie_id\")\n",
    "movielens.head()"
   ]
  },
  {
   "cell_type": "code",
   "execution_count": 24,
   "id": "27363637-82f4-4ec3-ba7b-6a506eac70fb",
   "metadata": {},
   "outputs": [
    {
     "data": {
      "text/html": [
       "<div>\n",
       "<style scoped>\n",
       "    .dataframe tbody tr th:only-of-type {\n",
       "        vertical-align: middle;\n",
       "    }\n",
       "\n",
       "    .dataframe tbody tr th {\n",
       "        vertical-align: top;\n",
       "    }\n",
       "\n",
       "    .dataframe thead th {\n",
       "        text-align: right;\n",
       "    }\n",
       "</style>\n",
       "<table border=\"1\" class=\"dataframe\">\n",
       "  <thead>\n",
       "    <tr style=\"text-align: right;\">\n",
       "      <th></th>\n",
       "      <th>movie_id</th>\n",
       "    </tr>\n",
       "  </thead>\n",
       "  <tbody>\n",
       "    <tr>\n",
       "      <th>min</th>\n",
       "      <td>20.00000</td>\n",
       "    </tr>\n",
       "    <tr>\n",
       "      <th>max</th>\n",
       "      <td>7359.00000</td>\n",
       "    </tr>\n",
       "    <tr>\n",
       "      <th>mean</th>\n",
       "      <td>143.10733</td>\n",
       "    </tr>\n",
       "    <tr>\n",
       "      <th>len</th>\n",
       "      <td>69878.00000</td>\n",
       "    </tr>\n",
       "  </tbody>\n",
       "</table>\n",
       "</div>"
      ],
      "text/plain": [
       "         movie_id\n",
       "min      20.00000\n",
       "max    7359.00000\n",
       "mean    143.10733\n",
       "len   69878.00000"
      ]
     },
     "execution_count": 24,
     "metadata": {},
     "output_type": "execute_result"
    }
   ],
   "source": [
    "movielens.groupby(\"user_id\").agg({\n",
    "    \"movie_id\": len\n",
    "}).agg({\n",
    "    \"movie_id\": [min, max, np.mean, len]\n",
    "})"
   ]
  },
  {
   "cell_type": "code",
   "execution_count": 25,
   "id": "2bc8cd83-2271-4e19-8a9a-33682ebf6e69",
   "metadata": {},
   "outputs": [
    {
     "data": {
      "text/html": [
       "<div>\n",
       "<style scoped>\n",
       "    .dataframe tbody tr th:only-of-type {\n",
       "        vertical-align: middle;\n",
       "    }\n",
       "\n",
       "    .dataframe tbody tr th {\n",
       "        vertical-align: top;\n",
       "    }\n",
       "\n",
       "    .dataframe thead th {\n",
       "        text-align: right;\n",
       "    }\n",
       "</style>\n",
       "<table border=\"1\" class=\"dataframe\">\n",
       "  <thead>\n",
       "    <tr style=\"text-align: right;\">\n",
       "      <th></th>\n",
       "      <th>user_id</th>\n",
       "    </tr>\n",
       "  </thead>\n",
       "  <tbody>\n",
       "    <tr>\n",
       "      <th>min</th>\n",
       "      <td>1.000000</td>\n",
       "    </tr>\n",
       "    <tr>\n",
       "      <th>max</th>\n",
       "      <td>34864.000000</td>\n",
       "    </tr>\n",
       "    <tr>\n",
       "      <th>mean</th>\n",
       "      <td>936.597733</td>\n",
       "    </tr>\n",
       "    <tr>\n",
       "      <th>len</th>\n",
       "      <td>10677.000000</td>\n",
       "    </tr>\n",
       "  </tbody>\n",
       "</table>\n",
       "</div>"
      ],
      "text/plain": [
       "           user_id\n",
       "min       1.000000\n",
       "max   34864.000000\n",
       "mean    936.597733\n",
       "len   10677.000000"
      ]
     },
     "execution_count": 25,
     "metadata": {},
     "output_type": "execute_result"
    }
   ],
   "source": [
    "movielens.groupby(\"movie_id\").agg({\n",
    "    \"user_id\": len\n",
    "}).agg({\n",
    "    \"user_id\": [min, max, np.mean, len]\n",
    "})"
   ]
  },
  {
   "cell_type": "code",
   "execution_count": 26,
   "id": "3cffdd84-d27c-4d39-8d02-8d1b413a67d2",
   "metadata": {},
   "outputs": [
    {
     "data": {
      "text/plain": [
       "10000054"
      ]
     },
     "execution_count": 26,
     "metadata": {},
     "output_type": "execute_result"
    }
   ],
   "source": [
    "len(movielens)"
   ]
  },
  {
   "cell_type": "code",
   "execution_count": 27,
   "id": "cc245ffb-a924-4575-a0c7-2af9a7a482fb",
   "metadata": {},
   "outputs": [
    {
     "data": {
      "text/html": [
       "<div>\n",
       "<style scoped>\n",
       "    .dataframe tbody tr th:only-of-type {\n",
       "        vertical-align: middle;\n",
       "    }\n",
       "\n",
       "    .dataframe tbody tr th {\n",
       "        vertical-align: top;\n",
       "    }\n",
       "\n",
       "    .dataframe thead th {\n",
       "        text-align: right;\n",
       "    }\n",
       "</style>\n",
       "<table border=\"1\" class=\"dataframe\">\n",
       "  <thead>\n",
       "    <tr style=\"text-align: right;\">\n",
       "      <th></th>\n",
       "      <th>movie_id</th>\n",
       "    </tr>\n",
       "    <tr>\n",
       "      <th>rating</th>\n",
       "      <th></th>\n",
       "    </tr>\n",
       "  </thead>\n",
       "  <tbody>\n",
       "    <tr>\n",
       "      <th>0.5</th>\n",
       "      <td>94988</td>\n",
       "    </tr>\n",
       "    <tr>\n",
       "      <th>1.0</th>\n",
       "      <td>384180</td>\n",
       "    </tr>\n",
       "    <tr>\n",
       "      <th>1.5</th>\n",
       "      <td>118278</td>\n",
       "    </tr>\n",
       "    <tr>\n",
       "      <th>2.0</th>\n",
       "      <td>790306</td>\n",
       "    </tr>\n",
       "    <tr>\n",
       "      <th>2.5</th>\n",
       "      <td>370178</td>\n",
       "    </tr>\n",
       "    <tr>\n",
       "      <th>3.0</th>\n",
       "      <td>2356676</td>\n",
       "    </tr>\n",
       "    <tr>\n",
       "      <th>3.5</th>\n",
       "      <td>879764</td>\n",
       "    </tr>\n",
       "    <tr>\n",
       "      <th>4.0</th>\n",
       "      <td>2875850</td>\n",
       "    </tr>\n",
       "    <tr>\n",
       "      <th>4.5</th>\n",
       "      <td>585022</td>\n",
       "    </tr>\n",
       "    <tr>\n",
       "      <th>5.0</th>\n",
       "      <td>1544812</td>\n",
       "    </tr>\n",
       "  </tbody>\n",
       "</table>\n",
       "</div>"
      ],
      "text/plain": [
       "        movie_id\n",
       "rating          \n",
       "0.5        94988\n",
       "1.0       384180\n",
       "1.5       118278\n",
       "2.0       790306\n",
       "2.5       370178\n",
       "3.0      2356676\n",
       "3.5       879764\n",
       "4.0      2875850\n",
       "4.5       585022\n",
       "5.0      1544812"
      ]
     },
     "execution_count": 27,
     "metadata": {},
     "output_type": "execute_result"
    }
   ],
   "source": [
    "movielens.groupby(\"rating\").agg({\"movie_id\": len})"
   ]
  },
  {
   "cell_type": "code",
   "execution_count": null,
   "id": "58ca3d14-a6c0-4955-894e-72b2de39f6cc",
   "metadata": {},
   "outputs": [],
   "source": []
  }
 ],
 "metadata": {
  "kernelspec": {
   "display_name": "Python 3 (ipykernel)",
   "language": "python",
   "name": "python3"
  },
  "language_info": {
   "codemirror_mode": {
    "name": "ipython",
    "version": 3
   },
   "file_extension": ".py",
   "mimetype": "text/x-python",
   "name": "python",
   "nbconvert_exporter": "python",
   "pygments_lexer": "ipython3",
   "version": "3.8.6"
  }
 },
 "nbformat": 4,
 "nbformat_minor": 5
}
